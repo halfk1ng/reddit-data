{
 "nbformat": 4,
 "nbformat_minor": 2,
 "metadata": {
  "language_info": {
   "name": "python",
   "codemirror_mode": {
    "name": "ipython",
    "version": 3
   },
   "version": "3.6.9-final"
  },
  "orig_nbformat": 2,
  "file_extension": ".py",
  "mimetype": "text/x-python",
  "name": "python",
  "npconvert_exporter": "python",
  "pygments_lexer": "ipython3",
  "version": 3,
  "kernelspec": {
   "name": "python36964bit2c14dea494554b2480cd6f641a89b174",
   "display_name": "Python 3.6.9 64-bit"
  }
 },
 "cells": [
  {
   "cell_type": "code",
   "execution_count": 61,
   "metadata": {},
   "outputs": [],
   "source": [
    "import pandas as pd\n",
    "import numpy as np\n",
    "import spacy\n",
    "import matplotlib.pyplot as plt\n",
    "fp = '/home/prp1277/Github-Repos/reddit-data/docs/rSlashExcel.csv'"
   ]
  },
  {
   "cell_type": "code",
   "execution_count": 63,
   "metadata": {},
   "outputs": [
    {
     "output_type": "execute_result",
     "data": {
      "text/plain": "       id  Index Source.Name link_flair_text  score  \\\n0  fv4t4z   3693    4/5/2020        unsolved      1   \n1  fv4uem   3694    4/5/2020        unsolved      1   \n2  fv5gjb   3697    4/5/2020        unsolved      1   \n3  fv6mul   3701    4/5/2020        unsolved      1   \n4  fvblyy   3706    4/5/2020        unsolved      1   \n\n                                                 url  \\\n0  https://www.reddit.com/r/excel/comments/fv4t4z...   \n1  https://www.reddit.com/r/excel/comments/fv4uem...   \n2  https://www.reddit.com/r/excel/comments/fv5gjb...   \n3  https://www.reddit.com/r/excel/comments/fv6mul...   \n4  https://www.reddit.com/r/excel/comments/fvblyy...   \n\n                                                text  \\\n0  i have two rows with names (over 4k names) and...   \n1  hi, i am an accountant. i am currently doing a...   \n2  ok say for example these are my january and fe...   \n3  trying to create a conditional formating that ...   \n4  hi,  i search so much in the internet  to summ...   \n\n                                               title  \n0  i need a formula to compare one row with another.  \n1                 how to perform conditional sorting  \n2            how to adjust utility expenses in excel  \n3  highlight unique part numbers that are not in ...  \n4  sum and subtracting between multiple sheets in...  ",
      "text/html": "<div>\n<style scoped>\n    .dataframe tbody tr th:only-of-type {\n        vertical-align: middle;\n    }\n\n    .dataframe tbody tr th {\n        vertical-align: top;\n    }\n\n    .dataframe thead th {\n        text-align: right;\n    }\n</style>\n<table border=\"1\" class=\"dataframe\">\n  <thead>\n    <tr style=\"text-align: right;\">\n      <th></th>\n      <th>id</th>\n      <th>Index</th>\n      <th>Source.Name</th>\n      <th>link_flair_text</th>\n      <th>score</th>\n      <th>url</th>\n      <th>text</th>\n      <th>title</th>\n    </tr>\n  </thead>\n  <tbody>\n    <tr>\n      <th>0</th>\n      <td>fv4t4z</td>\n      <td>3693</td>\n      <td>4/5/2020</td>\n      <td>unsolved</td>\n      <td>1</td>\n      <td>https://www.reddit.com/r/excel/comments/fv4t4z...</td>\n      <td>i have two rows with names (over 4k names) and...</td>\n      <td>i need a formula to compare one row with another.</td>\n    </tr>\n    <tr>\n      <th>1</th>\n      <td>fv4uem</td>\n      <td>3694</td>\n      <td>4/5/2020</td>\n      <td>unsolved</td>\n      <td>1</td>\n      <td>https://www.reddit.com/r/excel/comments/fv4uem...</td>\n      <td>hi, i am an accountant. i am currently doing a...</td>\n      <td>how to perform conditional sorting</td>\n    </tr>\n    <tr>\n      <th>2</th>\n      <td>fv5gjb</td>\n      <td>3697</td>\n      <td>4/5/2020</td>\n      <td>unsolved</td>\n      <td>1</td>\n      <td>https://www.reddit.com/r/excel/comments/fv5gjb...</td>\n      <td>ok say for example these are my january and fe...</td>\n      <td>how to adjust utility expenses in excel</td>\n    </tr>\n    <tr>\n      <th>3</th>\n      <td>fv6mul</td>\n      <td>3701</td>\n      <td>4/5/2020</td>\n      <td>unsolved</td>\n      <td>1</td>\n      <td>https://www.reddit.com/r/excel/comments/fv6mul...</td>\n      <td>trying to create a conditional formating that ...</td>\n      <td>highlight unique part numbers that are not in ...</td>\n    </tr>\n    <tr>\n      <th>4</th>\n      <td>fvblyy</td>\n      <td>3706</td>\n      <td>4/5/2020</td>\n      <td>unsolved</td>\n      <td>1</td>\n      <td>https://www.reddit.com/r/excel/comments/fvblyy...</td>\n      <td>hi,  i search so much in the internet  to summ...</td>\n      <td>sum and subtracting between multiple sheets in...</td>\n    </tr>\n  </tbody>\n</table>\n</div>"
     },
     "metadata": {},
     "execution_count": 63
    }
   ],
   "source": [
    "df1 = pd.read_csv(fp)\n",
    "df1.head()"
   ]
  },
  {
   "cell_type": "code",
   "execution_count": 64,
   "metadata": {},
   "outputs": [
    {
     "output_type": "execute_result",
     "data": {
      "text/plain": "             Index        score\ncount  4571.000000  4571.000000\nmean   2071.854518    10.974185\nstd    1125.210476    37.187369\nmin       1.000000     0.000000\n25%    1097.500000     1.000000\n50%    2151.000000     2.000000\n75%    3160.000000     6.000000\nmax    3707.000000   671.000000",
      "text/html": "<div>\n<style scoped>\n    .dataframe tbody tr th:only-of-type {\n        vertical-align: middle;\n    }\n\n    .dataframe tbody tr th {\n        vertical-align: top;\n    }\n\n    .dataframe thead th {\n        text-align: right;\n    }\n</style>\n<table border=\"1\" class=\"dataframe\">\n  <thead>\n    <tr style=\"text-align: right;\">\n      <th></th>\n      <th>Index</th>\n      <th>score</th>\n    </tr>\n  </thead>\n  <tbody>\n    <tr>\n      <th>count</th>\n      <td>4571.000000</td>\n      <td>4571.000000</td>\n    </tr>\n    <tr>\n      <th>mean</th>\n      <td>2071.854518</td>\n      <td>10.974185</td>\n    </tr>\n    <tr>\n      <th>std</th>\n      <td>1125.210476</td>\n      <td>37.187369</td>\n    </tr>\n    <tr>\n      <th>min</th>\n      <td>1.000000</td>\n      <td>0.000000</td>\n    </tr>\n    <tr>\n      <th>25%</th>\n      <td>1097.500000</td>\n      <td>1.000000</td>\n    </tr>\n    <tr>\n      <th>50%</th>\n      <td>2151.000000</td>\n      <td>2.000000</td>\n    </tr>\n    <tr>\n      <th>75%</th>\n      <td>3160.000000</td>\n      <td>6.000000</td>\n    </tr>\n    <tr>\n      <th>max</th>\n      <td>3707.000000</td>\n      <td>671.000000</td>\n    </tr>\n  </tbody>\n</table>\n</div>"
     },
     "metadata": {},
     "execution_count": 64
    }
   ],
   "source": [
    "df1.describe()"
   ]
  },
  {
   "cell_type": "code",
   "execution_count": 65,
   "metadata": {},
   "outputs": [
    {
     "output_type": "execute_result",
     "data": {
      "text/plain": "id                 object\nIndex               int64\nSource.Name        object\nlink_flair_text    object\nscore               int64\nurl                object\ntext               object\ntitle              object\ndtype: object"
     },
     "metadata": {},
     "execution_count": 65
    }
   ],
   "source": [
    "df1.dtypes"
   ]
  },
  {
   "cell_type": "code",
   "execution_count": 66,
   "metadata": {},
   "outputs": [
    {
     "output_type": "execute_result",
     "data": {
      "text/plain": "0       i have two rows with names (over 4k names) and...\n1       hi, i am an accountant. i am currently doing a...\n2       ok say for example these are my january and fe...\n3       trying to create a conditional formating that ...\n4       hi,  i search so much in the internet  to summ...\n                              ...                        \n4566    im giving a pivottable and vlookup training so...\n4567    ...in which two people will get the same quest...\n4568    hi all,  i have a database of around 10,000 us...\n4569    id like to write a macro that creates a note a...\n4570    i want the macro to clear all filters on the t...\nName: text, Length: 4571, dtype: object"
     },
     "metadata": {},
     "execution_count": 66
    }
   ],
   "source": [
    "df1[\"text\"]"
   ]
  },
  {
   "cell_type": "code",
   "execution_count": 67,
   "metadata": {},
   "outputs": [],
   "source": [
    "dfString = pd.Series(df1[\"text\"])"
   ]
  },
  {
   "cell_type": "markdown",
   "metadata": {},
   "source": [
    "## Strip, lowercase and replace whitespace with underscores: \n",
    "\n",
    "> [Working with Text Data](https://pandas.pydata.org/pandas-docs/stable/user_guide/text.html#text)\n",
    "\n",
    "`df.columns = df.columns.str.strip().str.lower().str.replace(' ', '_')`"
   ]
  },
  {
   "cell_type": "code",
   "execution_count": 68,
   "metadata": {},
   "outputs": [
    {
     "output_type": "execute_result",
     "data": {
      "text/plain": "Index(['ive tried making my own formula, then i tried the internet formulas, but i cant get everything straightened out.  workbook: [**doc v3.xlsx**](https://drive.google.com/open?id=1br6b411-g5pifo68hhzkdwv_szywlewp)  the relevant information is in yellow or orange colored cells, and most of the workbook has been trimmed down for sensitivity reasons. given the isbn for a book, i need to determine how many of each book a particular business has purchased. the isbns duplicate frequently.  currently i have a helper column with the following formula: =ms - e!f3+rows($1:1)\\*10\\^-4  it uses the isbns as a reference from the second tab.  my primary formula is: =iferror(if(left(index(ms - e!$d$3:$d$2923,match(large($a$3:$a$2923,rows($1:1)),$a$3:$a$2923,0)),10)=left($d5,10),sum(indirect(h &amp; match(large($a$3:$a$2923,rows($1:1)),$a$3:$a$2923,0) &amp; :l &amp; match(large($a$3:$a$2923,rows($1:1)),$a$3:$a$2923,0))),),)  it uses the business names on the second tabs in the index formula, then uses match on the data in the helper column. the problem is, it seems to be pretty sporadic in which business it chooses with the large formula. if it matches the business name on the first tab, then the sum &amp; indirect formulas work together to sum up the number of books purchases, but there is a problem there as well. the two matches in the sum formula match the same row, but i need them to cover a range, if possible. i think that part might work if i change the second match to use a small formula instead, but i still have to get the first half of the formula working to consider that issue.&amp;#x200b;this is cross-posted here: [excel boards](https://www.mrexcel.com/board/threads/index-match-formula-help-with-duplicates.1129699/)',\n       'im looking to enter a unique id which will pull data off the rows of the unique id of another workbook and then place them in the workbook for calculation. does anyone have any idea on how to achieve this or get started? im thinking a python script would do this? i have attached a screenshot of an example of what i am trying to accomplish. https://imgur.com/twoby2j',\n       'this question is regarding a google spreadsheet and not an excel one, i didnt see a rule directly against this and im having trouble getting any replies in other subreddits.im making a chart for the fish available in the new animal crossing game to make it easier for people to track what fish are available and which they have already caught. i have the fish split into the three different places they can be caught and further split into each month and which ones will be available then. i have one long list of all fish on the side to make it easier to mark them off when caught. but i would like to make it so when you mark a fish off in the long list, it will also mark the fish off in every month it appears.ex: anchovy appears in the sea pool all year long (jan-dec.) i want a user to only have to place a check on the long right-most list, and for the x boxes next to the anchovy in each month to be automatically updated to the same check. this way, users only have to check one box instead of 13. preferably id like the green cell color to also be copied, but its not the end of the world if its just the text[https://docs.google.com/spreadsheets/d/1qubpks6d8jo0l89su76kgkwzjgavnsfa5ri7b3jtkta/edit?usp=sharing](https://docs.google.com/spreadsheets/d/1qubpks6d8jo0l89su76kgkwzjgavnsfa5ri7b3jtkta/edit?usp=sharing)let me know if you have any clarifying questions because im sure this couldve been asked better.',\n       'i am currently trying to have my macro, which is the following: &amp;#x200b;  range(k3).selectactivecell.formular1c1 = =datevalue(left(r\\[4\\]c\\[-10\\],6))range(k3).selectselection.numberformat = m/d/yyrange(l3).selectactivecell.formular1c1 = =right(r\\[4\\]c\\[-11\\], len(r\\[4\\]c\\[-11\\])-13)range(m3).selectactivecell.formular1c1 = =r\\[6\\]c\\[-12\\]&amp;#x200b;run down the column (a). as it goes down the column, i want to make sure it runs on the right rows. for example, the first two actions are on row 1, while the third action is on row 3. i want to make sure it keeps going down by the appropriate number of rows. &amp;#x200b;does this make sense? is it possible?'],\n      dtype='object', name='text')"
     },
     "metadata": {},
     "execution_count": 68
    }
   ],
   "source": [
    "idx = pd.Index(dfString[1:]) # first row was 'selftext'\n",
    "idx.str.strip().str.replace(r'`','')\n",
    "#idx.str.replace(r'\\`','')\n",
    "idx[4:8]"
   ]
  },
  {
   "cell_type": "code",
   "execution_count": 83,
   "metadata": {},
   "outputs": [],
   "source": [
    "some_number = np.random.randint(0,4570)"
   ]
  },
  {
   "cell_type": "code",
   "execution_count": 84,
   "metadata": {},
   "outputs": [
    {
     "output_type": "execute_result",
     "data": {
      "text/plain": "'hey everyone,i have a few columns that i am combining using &amp; as well as a separator (|). however, when i combine my column with the date, it changes to a string. for example, 11/9/2019 will become 43778. is there a way to make sure that it stays in the format of 11/9/2019 so that it looks like candy|11/9/2019|ect.? thank you.'"
     },
     "metadata": {},
     "execution_count": 84
    }
   ],
   "source": [
    "json_df = pd.read_json('/home/prp1277/Github-Repos/reddit-data/docs/rSlashExcel.json')\n",
    "json_df[\"text\"][some_number]"
   ]
  },
  {
   "cell_type": "code",
   "execution_count": null,
   "metadata": {},
   "outputs": [],
   "source": []
  }
 ]
}